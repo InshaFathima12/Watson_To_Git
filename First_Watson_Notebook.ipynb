{
    "cells": [
        {
            "metadata": {
                "collapsed": true
            },
            "cell_type": "markdown",
            "source": "# My Jupyter Notebook on IBM Watson Studio"
        },
        {
            "metadata": {},
            "cell_type": "markdown",
            "source": "**Insha Fathima**\nData Scientist"
        },
        {
            "metadata": {},
            "cell_type": "markdown",
            "source": "***I am interested in data science because it is a trending technology and I am a data enthusiast***"
        },
        {
            "metadata": {},
            "cell_type": "markdown",
            "source": "### Addition of two numbers"
        },
        {
            "metadata": {},
            "cell_type": "code",
            "source": "3 + 6",
            "execution_count": 1,
            "outputs": [
                {
                    "output_type": "execute_result",
                    "execution_count": 1,
                    "data": {
                        "text/plain": "9"
                    },
                    "metadata": {}
                }
            ]
        },
        {
            "metadata": {},
            "cell_type": "markdown",
            "source": "Popular data science languages:\n\n- R\n- Python\n- Javascript\n\nFew data science libraries are:\n\n1. Panda\n2. Numpy\n3. Tensorflow\n\nImage:\n\n![IBM_Watson](\"C:\\Users\\Mehza\\Downloads\\IBM_Watson.jpg\")\n\nTable:\n\n|Data scientist names|\n--\nAlex\nBen\nInsha"
        },
        {
            "metadata": {},
            "cell_type": "code",
            "source": "",
            "execution_count": null,
            "outputs": []
        }
    ],
    "metadata": {
        "kernelspec": {
            "name": "python3",
            "display_name": "Python 3.10",
            "language": "python"
        },
        "language_info": {
            "name": "python",
            "version": "3.10.14",
            "mimetype": "text/x-python",
            "codemirror_mode": {
                "name": "ipython",
                "version": 3
            },
            "pygments_lexer": "ipython3",
            "nbconvert_exporter": "python",
            "file_extension": ".py"
        }
    },
    "nbformat": 4,
    "nbformat_minor": 1
}